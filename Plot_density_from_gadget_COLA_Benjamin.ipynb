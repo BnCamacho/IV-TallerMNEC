{
 "cells": [
  {
   "cell_type": "markdown",
   "metadata": {},
   "source": [
    "# Script preparado para el IV TALLER DE MÉTODOS NUMÉRICOS Y ESTADÍSTICOS EN COSMOLOGÍA."
   ]
  },
  {
   "cell_type": "code",
   "execution_count": 1,
   "metadata": {
    "collapsed": false
   },
   "outputs": [],
   "source": [
    "##### Notebook to read 1 file from gadget and do a plot of the density field\n",
    "\n",
    "import matplotlib.pyplot as plt\n",
    "%matplotlib inline\n",
    "import pynbody\n",
    "\n",
    "\n",
    "##### Path to the file\n",
    "path_data = '/home/bcamacho/Desktop/eBOSS/LSSanalysis-master/nbodikit/'\n",
    "\n",
    "\n",
    "##### Example to rad a file named 'mysimu_z0p500.0' which correspond in this case of:\n",
    "##### \"mysimu\" is the name you give in the parameterfile your run for the simu\n",
    "##### \"_z0p500\" correspond to a snapshot at z=0.5\n",
    "##### \".0\" is the first chunk of the simu. The simu has 1 chunk for each CPU used\n",
    "\n",
    "#file_name = path_data +'mysimu_z0p500.0'\n",
    "file_name = path_data+'2example_filename_z0p000.0'\n",
    "#### Read the gadget format from the COLA output\n",
    "s = pynbody.load(file_name)\n",
    "\n",
    "#### We create the x, y and z array containning the positions for all the particles in this chunk  \n",
    "\n",
    "x = (s['pos']).T[0]\n",
    "y = (s['pos']).T[1]\n",
    "z = (s['pos']).T[2]\n",
    "\n"
   ]
  },
  {
   "cell_type": "code",
   "execution_count": 2,
   "metadata": {
    "collapsed": false
   },
   "outputs": [
    {
     "name": "stdout",
     "output_type": "stream",
     "text": [
      "Xmin = 0.0 Xmax= 127.99995\n",
      "Ymin = 0.0 Ymax= 511.99988\n",
      "Zmin = 0.0 Zmax= 511.9998\n"
     ]
    }
   ],
   "source": [
    "import numpy as np\n",
    "\n",
    "##### We want to know the minima and maxima in x, y and z dimensions for this chunk\n",
    "\n",
    "print \"Xmin =\",  np.min(x), \"Xmax=\", np.max(x)\n",
    "print \"Ymin =\",  np.min(y), \"Ymax=\", np.max(y)\n",
    "print \"Zmin =\",  np.min(z), \"Zmax=\", np.max(z)\n"
   ]
  },
  {
   "cell_type": "code",
   "execution_count": 3,
   "metadata": {
    "collapsed": true
   },
   "outputs": [],
   "source": [
    "##### Now we have the information we can choose a slice inside this chunk we want to show\n",
    "##### Here I will choose a slice of 30 Mpc width in X and 300 by 300 Mpc in Y and Z\n",
    "##### You have to adapt these cuts for your simulation.\n",
    "\n",
    "\n",
    "##### Cuts to represent a slice with 30Mpc width in X\n",
    "xmin = 10\n",
    "xmax = 40\n",
    "\n",
    "ymin = 100\n",
    "ymax = 400\n",
    "\n",
    "zmin = 100\n",
    "zmax = 400\n",
    "\n",
    "\n",
    "#### We select the particles inside the bounds we defined\n",
    "tmp = np.where( (x < xmax) & (x > xmin) & (y < ymax) & (y > ymin) & (z < zmax) & (z > zmin) )\n",
    "\n",
    "tmp = tmp[0]\n",
    "\n",
    "x = x[tmp]\n",
    "y = y[tmp]\n",
    "z = z[tmp]\n",
    "\n"
   ]
  },
  {
   "cell_type": "code",
   "execution_count": 4,
   "metadata": {
    "collapsed": true
   },
   "outputs": [],
   "source": [
    "#### We have to fill a 2D array in which we will stack the particles in the X dimension.\n",
    "#### So we will have a 2D array of 300Mpc by 300Mpc (Y,Z)\n",
    "\n",
    "L_box = 300\n",
    "pix_size = 0.2  ##### size of the pixels in Mpc. You can play with this parameter\n",
    "N_pix = int(L_box/pix_size) +1   ##### calculate the number of pixels in each dimension\n",
    "\n",
    "y_arr = np.linspace(0,L_box, N_pix)  #### create the array with the value of the pixel position in Y\n",
    "z_arr = np.linspace(0,L_box, N_pix)  #### create the array with the value of the pixel position in Z\n",
    "\n",
    "#### density is the 2D array we will fill\n",
    "density = np.zeros( (N_pix, N_pix) )   \n",
    "\n",
    "##### We find the cell of density array hosting each of the particles and we add 1 in it\n",
    "for i in range(len(y)):\n",
    "    ind_x = int(np.floor( (y[i]-ymin) /pix_size))\n",
    "    ind_y = int(np.floor( (z[i]-zmin)/pix_size))\n",
    "    density[ind_x, ind_y] += 1.\n",
    "\n"
   ]
  },
  {
   "cell_type": "code",
   "execution_count": null,
   "metadata": {
    "collapsed": false
   },
   "outputs": [],
   "source": [
    "#### And we can plot the results. Of course we do not plot in linear scale\n",
    "#### because we do not see anything\n",
    "plt.figure(figsize=(10,10))\n",
    "plt.pcolormesh(y_arr, z_arr, (density), cmap='magma' )\n",
    "plt.title(\"Linear plot\")\n",
    "plt.show()\n",
    "ax = plt.figure(figsize=(10,10))\n",
    "plt.pcolormesh(y_arr, z_arr, density**(1./3), cmap='magma' )\n",
    "plt.pcolormesh(y_arr, z_arr, np.transpose(density**(1./3)), cmap='Blues' )\n",
    "plt.title(\"Power law plot\")\n",
    "plt.show()"
   ]
  },
  {
   "cell_type": "markdown",
   "metadata": {
    "collapsed": true
   },
   "source": [
    "# Try  making a plot with a power law. You should obtain what you have seen on the slides."
   ]
  },
  {
   "cell_type": "code",
   "execution_count": null,
   "metadata": {
    "collapsed": true
   },
   "outputs": [],
   "source": []
  }
 ],
 "metadata": {
  "kernelspec": {
   "display_name": "Python 2",
   "language": "python",
   "name": "python2"
  },
  "language_info": {
   "codemirror_mode": {
    "name": "ipython",
    "version": 2
   },
   "file_extension": ".py",
   "mimetype": "text/x-python",
   "name": "python",
   "nbconvert_exporter": "python",
   "pygments_lexer": "ipython2",
   "version": "2.7.12"
  }
 },
 "nbformat": 4,
 "nbformat_minor": 2
}
